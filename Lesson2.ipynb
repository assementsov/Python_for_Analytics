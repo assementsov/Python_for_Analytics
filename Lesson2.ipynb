{
  "nbformat": 4,
  "nbformat_minor": 0,
  "metadata": {
    "colab": {
      "name": "Untitled0.ipynb",
      "provenance": [],
      "authorship_tag": "ABX9TyOeInEFXE6ZCiXKSIYC8naX",
      "include_colab_link": true
    },
    "kernelspec": {
      "name": "python3",
      "display_name": "Python 3"
    },
    "language_info": {
      "name": "python"
    }
  },
  "cells": [
    {
      "cell_type": "markdown",
      "metadata": {
        "id": "view-in-github",
        "colab_type": "text"
      },
      "source": [
        "<a href=\"https://colab.research.google.com/github/assementsov/Python_for_Analytics/blob/main/Lesson2.ipynb\" target=\"_parent\"><img src=\"https://colab.research.google.com/assets/colab-badge.svg\" alt=\"Open In Colab\"/></a>"
      ]
    },
    {
      "cell_type": "code",
      "metadata": {
        "colab": {
          "base_uri": "https://localhost:8080/"
        },
        "id": "5HLZHU_vvKPL",
        "outputId": "c3450131-9de0-4496-9afc-da4f80b65db3"
      },
      "source": [
        ""
      ],
      "execution_count": 18,
      "outputs": [
        {
          "output_type": "stream",
          "name": "stdout",
          "text": [
            "S\n",
            "e\n",
            "m\n",
            "e\n",
            "n\n",
            "t\n",
            "s\n",
            "o\n",
            "v\n",
            " \n",
            "A\n",
            "n\n",
            "t\n",
            "o\n",
            "n\n",
            " \n",
            "S\n",
            "e\n",
            "r\n",
            "g\n",
            "e\n",
            "e\n",
            "v\n",
            "i\n",
            "c\n",
            "h\n"
          ]
        }
      ]
    }
  ]
}